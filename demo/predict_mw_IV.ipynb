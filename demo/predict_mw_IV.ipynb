{
 "cells": [
  {
   "cell_type": "markdown",
   "metadata": {},
   "source": [
    "# Training a PolymerGNN to predict IV\n",
    "This notebook shows:\n",
    "1. How to load the dataset\n",
    "2. How to train the model\n",
    "3. How to save and load the model via state dictionaries\n",
    "4. How to visualize model predictions"
   ]
  },
  {
   "cell_type": "code",
   "execution_count": 1,
   "metadata": {},
   "outputs": [],
   "source": [
    "import os\n",
    "import torch\n",
    "import pandas as pd\n",
    "from polymerlearn.utils import get_IV_add, GraphDataset\n",
    "\n",
    "# Load data from local path:\n",
    "data = pd.read_csv(os.path.join('/Users/owenqueen/Desktop/eastman_project-confidential/Eastman_Project/CombinedData', \n",
    "            'pub_data.csv'))"
   ]
  },
  {
   "cell_type": "markdown",
   "metadata": {},
   "source": [
    "We'll train a small model (Support Vector Machine) to predict Mw. We'll then use those imputed values when training the model."
   ]
  },
  {
   "cell_type": "code",
   "execution_count": 5,
   "metadata": {},
   "outputs": [
    {
     "name": "stdout",
     "output_type": "stream",
     "text": [
      "Example of Mw before replacement: -1.0\n",
      "Example of Mw after replacement: 10.117860843616004\n"
     ]
    },
    {
     "name": "stderr",
     "output_type": "stream",
     "text": [
      "/opt/anaconda3/lib/python3.8/site-packages/pandas/core/series.py:726: RuntimeWarning: divide by zero encountered in log\n",
      "  result = getattr(ufunc, method)(*inputs, **kwargs)\n"
     ]
    }
   ],
   "source": [
    "import numpy as np\n",
    "from sklearn.svm import SVR\n",
    "\n",
    "from polymerlearn.utils import get_vector\n",
    "\n",
    "# Fill missing values with -1:\n",
    "Mw = get_vector(data, prop = 'Mw (PS)', fill_value = 1 / np.exp(1), use_log = True).to_numpy()\n",
    "\n",
    "# Load like normal for IV:\n",
    "AN = get_vector(data, prop = 'AN').to_numpy()\n",
    "OHN = get_vector(data, prop = 'OHN').to_numpy()\n",
    "TMP = get_vector(data, prop = '%TMP', fill_value=0).to_numpy()\n",
    "\n",
    "not_negone_index = (Mw > 0)\n",
    "\n",
    "X = np.stack([AN, OHN, TMP]).T\n",
    "\n",
    "# Transform X (relu to get rid of negatives):\n",
    "X[X < 0] = 0\n",
    "\n",
    "# Train on samples for which we have non-missing Mw values:\n",
    "trainX = X[not_negone_index]\n",
    "trainY = Mw[not_negone_index]\n",
    "\n",
    "# Train a support vector machine model:\n",
    "svm = SVR(kernel = 'linear')\n",
    "svm.fit(trainX, trainY)\n",
    "\n",
    "# Impute all -1 spots:\n",
    "Yout = svm.predict(X[~not_negone_index])\n",
    "\n",
    "one_example = np.nonzero(~not_negone_index)[0][0]\n",
    "\n",
    "print('Example of Mw before replacement:', Mw[one_example])\n",
    "\n",
    "# Replace values in Mw:\n",
    "Mw[~not_negone_index] = Yout\n",
    "\n",
    "print('Example of Mw after replacement:', Mw[one_example])"
   ]
  },
  {
   "cell_type": "code",
   "execution_count": 6,
   "metadata": {},
   "outputs": [],
   "source": [
    "# Get additional variables, including predicted Mw values from above:\n",
    "add = np.stack([Mw, AN, OHN, TMP]).T\n",
    "\n",
    "# Load in specialized dataset class:\n",
    "dataset = GraphDataset(\n",
    "    data = data,\n",
    "    Y_target=['IV'],\n",
    "    test_size = 0.2,\n",
    "    add_features=add\n",
    ")"
   ]
  },
  {
   "cell_type": "markdown",
   "metadata": {},
   "source": [
    "Now we'll instantiate our model, using the standard IV model that gets the best prediction scores."
   ]
  },
  {
   "cell_type": "code",
   "execution_count": 7,
   "metadata": {},
   "outputs": [
    {
     "name": "stderr",
     "output_type": "stream",
     "text": [
      "/Users/owenqueen/Desktop/Eastman_project-Confidential/Eastman_Project/PolymerGNN/polymerlearn/utils/graph_prep.py:456: UserWarning: Creating a tensor from a list of numpy.ndarrays is extremely slow. Please consider converting the list to a single numpy.ndarray with numpy.array() before converting to a tensor. (Triggered internally at  /Users/distiller/project/conda/conda-bld/pytorch_1640811925055/work/torch/csrc/utils/tensor_new.cpp:201.)\n",
      "  torch.tensor(self.add_test).float().to(self.device)\n"
     ]
    },
    {
     "name": "stdout",
     "output_type": "stream",
     "text": [
      "Epoch: 0, \t Train r2: -3.2225 \t Train Loss: 14.5739 \t Test r2: -0.7093 \t Test Loss 0.0849\n",
      "Epoch: 10, \t Train r2: 0.2505 \t Train Loss: 1.6771 \t Test r2: 0.0278 \t Test Loss 0.0483\n",
      "Epoch: 20, \t Train r2: 0.4189 \t Train Loss: 2.1996 \t Test r2: 0.0920 \t Test Loss 0.0451\n",
      "Epoch: 30, \t Train r2: 0.5063 \t Train Loss: 1.2929 \t Test r2: 0.1694 \t Test Loss 0.0412\n",
      "Epoch: 40, \t Train r2: 0.5080 \t Train Loss: 2.1095 \t Test r2: 0.2982 \t Test Loss 0.0348\n",
      "Epoch: 50, \t Train r2: 0.6711 \t Train Loss: 0.8441 \t Test r2: 0.3433 \t Test Loss 0.0326\n",
      "Epoch: 60, \t Train r2: 0.5608 \t Train Loss: 1.3223 \t Test r2: 0.3502 \t Test Loss 0.0323\n",
      "Epoch: 70, \t Train r2: 0.5082 \t Train Loss: 1.0222 \t Test r2: 0.4128 \t Test Loss 0.0292\n",
      "Epoch: 80, \t Train r2: 0.5412 \t Train Loss: 1.0519 \t Test r2: 0.3914 \t Test Loss 0.0302\n",
      "Epoch: 90, \t Train r2: 0.4110 \t Train Loss: 1.2332 \t Test r2: 0.4079 \t Test Loss 0.0294\n",
      "Epoch: 100, \t Train r2: 0.6016 \t Train Loss: 0.8865 \t Test r2: 0.3008 \t Test Loss 0.0347\n",
      "Epoch: 110, \t Train r2: 0.4873 \t Train Loss: 0.7116 \t Test r2: 0.3886 \t Test Loss 0.0304\n",
      "Epoch: 120, \t Train r2: 0.5015 \t Train Loss: 1.0816 \t Test r2: 0.4636 \t Test Loss 0.0266\n",
      "Epoch: 130, \t Train r2: 0.6731 \t Train Loss: 1.1010 \t Test r2: 0.4279 \t Test Loss 0.0284\n",
      "Epoch: 140, \t Train r2: 0.6412 \t Train Loss: 0.8310 \t Test r2: 0.4069 \t Test Loss 0.0294\n",
      "Epoch: 150, \t Train r2: 0.6216 \t Train Loss: 1.1879 \t Test r2: 0.4579 \t Test Loss 0.0269\n",
      "Epoch: 160, \t Train r2: 0.7403 \t Train Loss: 0.8055 \t Test r2: 0.5530 \t Test Loss 0.0222\n",
      "Epoch: 170, \t Train r2: 0.4724 \t Train Loss: 1.4128 \t Test r2: 0.4992 \t Test Loss 0.0249\n",
      "Epoch: 180, \t Train r2: 0.7109 \t Train Loss: 0.6299 \t Test r2: 0.4123 \t Test Loss 0.0292\n",
      "Epoch: 190, \t Train r2: 0.6610 \t Train Loss: 1.3143 \t Test r2: 0.4534 \t Test Loss 0.0271\n",
      "Epoch: 200, \t Train r2: 0.6045 \t Train Loss: 1.6088 \t Test r2: 0.5502 \t Test Loss 0.0223\n",
      "Epoch: 210, \t Train r2: 0.6140 \t Train Loss: 0.9227 \t Test r2: 0.6035 \t Test Loss 0.0197\n",
      "Epoch: 220, \t Train r2: 0.7016 \t Train Loss: 0.5156 \t Test r2: 0.5271 \t Test Loss 0.0235\n",
      "Epoch: 230, \t Train r2: 0.7434 \t Train Loss: 0.6668 \t Test r2: 0.5695 \t Test Loss 0.0214\n",
      "Epoch: 240, \t Train r2: 0.7305 \t Train Loss: 0.8137 \t Test r2: 0.6247 \t Test Loss 0.0186\n",
      "Epoch: 250, \t Train r2: 0.7099 \t Train Loss: 1.0754 \t Test r2: 0.4733 \t Test Loss 0.0261\n",
      "Epoch: 260, \t Train r2: 0.7048 \t Train Loss: 0.7752 \t Test r2: 0.6545 \t Test Loss 0.0171\n",
      "Epoch: 270, \t Train r2: 0.7348 \t Train Loss: 0.8057 \t Test r2: 0.6337 \t Test Loss 0.0182\n",
      "Epoch: 280, \t Train r2: 0.7689 \t Train Loss: 0.6037 \t Test r2: 0.6186 \t Test Loss 0.0189\n",
      "Epoch: 290, \t Train r2: 0.8423 \t Train Loss: 0.6198 \t Test r2: 0.4335 \t Test Loss 0.0281\n",
      "Epoch: 300, \t Train r2: 0.6832 \t Train Loss: 0.7908 \t Test r2: 0.6446 \t Test Loss 0.0176\n",
      "Epoch: 310, \t Train r2: 0.6551 \t Train Loss: 0.9768 \t Test r2: 0.5687 \t Test Loss 0.0214\n",
      "Epoch: 320, \t Train r2: 0.6719 \t Train Loss: 0.7804 \t Test r2: 0.6276 \t Test Loss 0.0185\n",
      "Epoch: 330, \t Train r2: 0.9012 \t Train Loss: 0.1768 \t Test r2: 0.6608 \t Test Loss 0.0168\n",
      "Epoch: 340, \t Train r2: 0.8163 \t Train Loss: 0.7406 \t Test r2: 0.5119 \t Test Loss 0.0242\n",
      "Epoch: 350, \t Train r2: 0.7087 \t Train Loss: 0.5534 \t Test r2: 0.6189 \t Test Loss 0.0189\n",
      "Epoch: 360, \t Train r2: 0.7457 \t Train Loss: 0.5938 \t Test r2: 0.6996 \t Test Loss 0.0149\n",
      "Epoch: 370, \t Train r2: 0.7773 \t Train Loss: 0.5088 \t Test r2: 0.6010 \t Test Loss 0.0198\n",
      "Epoch: 380, \t Train r2: 0.8397 \t Train Loss: 0.3796 \t Test r2: 0.7167 \t Test Loss 0.0141\n",
      "Epoch: 390, \t Train r2: 0.7780 \t Train Loss: 0.4865 \t Test r2: 0.6148 \t Test Loss 0.0191\n",
      "Epoch: 400, \t Train r2: 0.8393 \t Train Loss: 0.4304 \t Test r2: 0.7350 \t Test Loss 0.0132\n",
      "Epoch: 410, \t Train r2: 0.7328 \t Train Loss: 0.7160 \t Test r2: 0.6703 \t Test Loss 0.0164\n",
      "Epoch: 420, \t Train r2: 0.7995 \t Train Loss: 0.7671 \t Test r2: 0.6300 \t Test Loss 0.0184\n",
      "Epoch: 430, \t Train r2: 0.7940 \t Train Loss: 0.7711 \t Test r2: 0.5677 \t Test Loss 0.0215\n",
      "Epoch: 440, \t Train r2: 0.8126 \t Train Loss: 0.4261 \t Test r2: 0.5796 \t Test Loss 0.0209\n",
      "Epoch: 450, \t Train r2: 0.7446 \t Train Loss: 0.9050 \t Test r2: 0.5908 \t Test Loss 0.0203\n",
      "Epoch: 460, \t Train r2: 0.8602 \t Train Loss: 0.3463 \t Test r2: 0.7256 \t Test Loss 0.0136\n",
      "Epoch: 470, \t Train r2: 0.7969 \t Train Loss: 0.4382 \t Test r2: 0.7006 \t Test Loss 0.0149\n",
      "Epoch: 480, \t Train r2: 0.7726 \t Train Loss: 0.5506 \t Test r2: 0.7006 \t Test Loss 0.0149\n",
      "Epoch: 490, \t Train r2: 0.7851 \t Train Loss: 0.6116 \t Test r2: 0.7009 \t Test Loss 0.0149\n",
      "Epoch: 500, \t Train r2: 0.7841 \t Train Loss: 0.6052 \t Test r2: 0.7001 \t Test Loss 0.0149\n",
      "Epoch: 510, \t Train r2: 0.7682 \t Train Loss: 0.8376 \t Test r2: 0.5608 \t Test Loss 0.0218\n",
      "Epoch: 520, \t Train r2: 0.8237 \t Train Loss: 0.7841 \t Test r2: 0.5890 \t Test Loss 0.0204\n",
      "Epoch: 530, \t Train r2: 0.8403 \t Train Loss: 0.6394 \t Test r2: 0.6538 \t Test Loss 0.0172\n",
      "Epoch: 540, \t Train r2: 0.7253 \t Train Loss: 1.0963 \t Test r2: 0.6309 \t Test Loss 0.0183\n",
      "Epoch: 550, \t Train r2: 0.9036 \t Train Loss: 0.3880 \t Test r2: 0.6382 \t Test Loss 0.0180\n",
      "Epoch: 560, \t Train r2: 0.7169 \t Train Loss: 0.6637 \t Test r2: 0.7219 \t Test Loss 0.0138\n",
      "Epoch: 570, \t Train r2: 0.7458 \t Train Loss: 0.6037 \t Test r2: 0.7541 \t Test Loss 0.0122\n",
      "Epoch: 580, \t Train r2: 0.8717 \t Train Loss: 0.5161 \t Test r2: 0.5352 \t Test Loss 0.0231\n",
      "Epoch: 590, \t Train r2: 0.8235 \t Train Loss: 0.4319 \t Test r2: 0.6690 \t Test Loss 0.0164\n",
      "Epoch: 600, \t Train r2: 0.9252 \t Train Loss: 0.3219 \t Test r2: 0.6023 \t Test Loss 0.0197\n",
      "Epoch: 610, \t Train r2: 0.8141 \t Train Loss: 0.4320 \t Test r2: 0.7389 \t Test Loss 0.0130\n",
      "Epoch: 620, \t Train r2: 0.7156 \t Train Loss: 0.6223 \t Test r2: 0.7478 \t Test Loss 0.0125\n",
      "Epoch: 630, \t Train r2: 0.9324 \t Train Loss: 0.2400 \t Test r2: 0.5811 \t Test Loss 0.0208\n",
      "Epoch: 640, \t Train r2: 0.8192 \t Train Loss: 0.4353 \t Test r2: 0.6276 \t Test Loss 0.0185\n",
      "Epoch: 650, \t Train r2: 0.8744 \t Train Loss: 0.5456 \t Test r2: 0.6304 \t Test Loss 0.0183\n",
      "Epoch: 660, \t Train r2: 0.8273 \t Train Loss: 0.6913 \t Test r2: 0.6870 \t Test Loss 0.0155\n",
      "Epoch: 670, \t Train r2: 0.8515 \t Train Loss: 0.4185 \t Test r2: 0.6101 \t Test Loss 0.0194\n",
      "Epoch: 680, \t Train r2: 0.8599 \t Train Loss: 0.4211 \t Test r2: 0.7115 \t Test Loss 0.0143\n",
      "Epoch: 690, \t Train r2: 0.9153 \t Train Loss: 0.3677 \t Test r2: 0.6131 \t Test Loss 0.0192\n",
      "Epoch: 700, \t Train r2: 0.8152 \t Train Loss: 0.4771 \t Test r2: 0.6774 \t Test Loss 0.0160\n",
      "Epoch: 710, \t Train r2: 0.9068 \t Train Loss: 0.1852 \t Test r2: 0.7308 \t Test Loss 0.0134\n",
      "Epoch: 720, \t Train r2: 0.7783 \t Train Loss: 0.5075 \t Test r2: 0.6764 \t Test Loss 0.0161\n",
      "Epoch: 730, \t Train r2: 0.8951 \t Train Loss: 0.4214 \t Test r2: 0.6100 \t Test Loss 0.0194\n",
      "Epoch: 740, \t Train r2: 0.7648 \t Train Loss: 0.5575 \t Test r2: 0.6841 \t Test Loss 0.0157\n",
      "Epoch: 750, \t Train r2: 0.8778 \t Train Loss: 0.2942 \t Test r2: 0.6543 \t Test Loss 0.0172\n",
      "Epoch: 760, \t Train r2: 0.8740 \t Train Loss: 0.3652 \t Test r2: 0.7301 \t Test Loss 0.0134\n",
      "Epoch: 770, \t Train r2: 0.8401 \t Train Loss: 0.7391 \t Test r2: 0.7276 \t Test Loss 0.0135\n",
      "Epoch: 780, \t Train r2: 0.7784 \t Train Loss: 0.4770 \t Test r2: 0.7597 \t Test Loss 0.0119\n",
      "Epoch: 790, \t Train r2: 0.8822 \t Train Loss: 0.3004 \t Test r2: 0.7182 \t Test Loss 0.0140\n"
     ]
    }
   ],
   "source": [
    "from polymerlearn.models.gnn import PolymerGNN_IV\n",
    "from polymerlearn.utils import train\n",
    "\n",
    "model = PolymerGNN_IV(\n",
    "    input_feat = 6,         # How many input features on each node; don't change this\n",
    "    hidden_channels = 32,   # How many intermediate dimensions to use in model\n",
    "                            # Can change this ^^\n",
    "    num_additional = 4      # How many additional resin properties to include in the prediction\n",
    "                            # Corresponds to the number in get_IV_add\n",
    ")\n",
    "\n",
    "optimizer = torch.optim.AdamW(model.parameters(), lr = 0.0001, weight_decay=0.01)\n",
    "criterion = torch.nn.MSELoss()\n",
    "\n",
    "train(\n",
    "    model,\n",
    "    optimizer = optimizer,\n",
    "    criterion = criterion,\n",
    "    dataset = dataset,\n",
    "    batch_size = 64,\n",
    "    epochs = 800\n",
    ")"
   ]
  },
  {
   "cell_type": "markdown",
   "metadata": {},
   "source": [
    "Since you now have a trained model, we can feed in some of the test data and observe outputs."
   ]
  },
  {
   "cell_type": "code",
   "execution_count": 8,
   "metadata": {},
   "outputs": [
    {
     "name": "stderr",
     "output_type": "stream",
     "text": [
      "<ipython-input-8-031591320e98>:4: UserWarning: To copy construct from a tensor, it is recommended to use sourceTensor.clone().detach() or sourceTensor.clone().detach().requires_grad_(True), rather than torch.tensor(sourceTensor).\n",
      "  add_test = torch.tensor(add_test).float()\n"
     ]
    }
   ],
   "source": [
    "from polymerlearn.utils import make_like_batch\n",
    "\n",
    "test_data, Ytest, add_test = dataset.get_test()\n",
    "add_test = torch.tensor(add_test).float()\n",
    "\n",
    "predictions = []\n",
    "model.eval()\n",
    "with torch.no_grad():\n",
    "    for i in range(Ytest.shape[0]):\n",
    "        batch_like_tup = make_like_batch(test_data[i])\n",
    "        pred = model(*batch_like_tup, add_test[i]).item()\n",
    "        predictions.append(pred)"
   ]
  },
  {
   "cell_type": "markdown",
   "metadata": {},
   "source": [
    "The next code block shows how we can save the model into a state dictionary object, which is PyTorch's main tool for storing model data. Read more about state dictionaries here: https://pytorch.org/tutorials/beginner/saving_loading_models.html "
   ]
  },
  {
   "cell_type": "markdown",
   "metadata": {},
   "source": [
    "Now we'll generate a scatterplot that compares predictions for the test set and the ground truth values."
   ]
  },
  {
   "cell_type": "code",
   "execution_count": 9,
   "metadata": {},
   "outputs": [
    {
     "data": {
      "image/png": "[encoded data removed]",
      "text/plain": [
       "<Figure size 900x600 with 1 Axes>"
      ]
     },
     "metadata": {
      "needs_background": "light"
     },
     "output_type": "display_data"
    }
   ],
   "source": [
    "import matplotlib.pyplot as plt\n",
    "\n",
    "Y = Ytest.tolist()\n",
    "\n",
    "plt.figure(dpi=150)\n",
    "plt.plot(Y, Y, marker = 's', c = 'black', label = 'Actual IV')\n",
    "plt.scatter(Y, predictions, c = 'green', label = 'Predicted IV')\n",
    "plt.xlabel('Actual IV')\n",
    "plt.ylabel('Predicted IV')\n",
    "plt.title('Predicted IV on Test Set')\n",
    "plt.legend()\n",
    "plt.show()"
   ]
  }
 ],
 "metadata": {
  "interpreter": {
   "hash": "40d3a090f54c6569ab1632332b64b2c03c39dcf918b08424e98f38b5ae0af88f"
  },
  "kernelspec": {
   "display_name": "Python 3",
   "language": "python",
   "name": "python3"
  },
  "language_info": {
   "codemirror_mode": {
    "name": "ipython",
    "version": 3
   },
   "file_extension": ".py",
   "mimetype": "text/x-python",
   "name": "python",
   "nbconvert_exporter": "python",
   "pygments_lexer": "ipython3",
   "version": "3.9.7"
  }
 },
 "nbformat": 4,
 "nbformat_minor": 2
}
