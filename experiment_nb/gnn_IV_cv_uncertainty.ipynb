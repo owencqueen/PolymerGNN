{
 "cells": [
  {
   "cell_type": "code",
   "execution_count": 1,
   "metadata": {},
   "outputs": [
    {
     "name": "stderr",
     "output_type": "stream",
     "text": [
      "/opt/anaconda3/lib/python3.8/site-packages/pandas/core/series.py:726: RuntimeWarning: divide by zero encountered in log\n",
      "  result = getattr(ufunc, method)(*inputs, **kwargs)\n"
     ]
    }
   ],
   "source": [
    "import os\n",
    "import torch\n",
    "import pandas as pd\n",
    "from polymerlearn.utils import get_IV_add, GraphDataset\n",
    "\n",
    "# Load data from local path:\n",
    "data = pd.read_csv(os.path.join('/Users/owenqueen/Desktop/eastman_project-confidential/Eastman_Project/CombinedData', \n",
    "            'pub_data.csv'))\n",
    "\n",
    "add = get_IV_add(data)\n",
    "\n",
    "dataset = GraphDataset(\n",
    "    data = data,\n",
    "    structure_dir = '../Structures/AG/xyz',\n",
    "    Y_target=['IV'],\n",
    "    test_size = 0.2,\n",
    "    add_features=add\n",
    ")"
   ]
  },
  {
   "cell_type": "markdown",
   "metadata": {},
   "source": [
    "Now we'll instantiate our model, using the standard IV model that gets the best prediction scores."
   ]
  },
  {
   "cell_type": "code",
   "execution_count": 2,
   "metadata": {},
   "outputs": [
    {
     "name": "stderr",
     "output_type": "stream",
     "text": [
      "/Users/owenqueen/Desktop/Eastman_project-Confidential/Eastman_Project/PolymerGNN/polymerlearn/utils/graph_prep.py:425: UserWarning: Creating a tensor from a list of numpy.ndarrays is extremely slow. Please consider converting the list to a single numpy.ndarray with numpy.array() before converting to a tensor. (Triggered internally at  /Users/distiller/project/conda/conda-bld/pytorch_1640811925055/work/torch/csrc/utils/tensor_new.cpp:201.)\n",
      "  return self.test_data, torch.tensor(self.Ytest).float(), self.add_test, test_inds\n"
     ]
    },
    {
     "name": "stdout",
     "output_type": "stream",
     "text": [
      "Fold: 1 \t Epoch: 0,                     \t Train r2: -2.5598 \t Train Loss: 136.8438\n",
      "Fold: 1 \t Epoch: 50,                     \t Train r2: 0.5151 \t Train Loss: -32.7507\n",
      "Fold: 1 \t Epoch: 100,                     \t Train r2: 0.6556 \t Train Loss: -44.7641\n",
      "Fold: 1 \t Epoch: 150,                     \t Train r2: 0.6834 \t Train Loss: -47.3659\n",
      "Fold: 1 \t Epoch: 200,                     \t Train r2: 0.6650 \t Train Loss: -70.6051\n",
      "Fold: 1 \t Epoch: 250,                     \t Train r2: 0.7222 \t Train Loss: -65.3493\n",
      "Fold: 1 \t Epoch: 300,                     \t Train r2: 0.6703 \t Train Loss: -75.3250\n",
      "Fold: 1 \t Epoch: 350,                     \t Train r2: 0.8412 \t Train Loss: -87.5964\n",
      "Fold: 1 \t Epoch: 400,                     \t Train r2: 0.5841 \t Train Loss: -51.0292\n",
      "Fold: 1 \t Epoch: 450,                     \t Train r2: 0.8660 \t Train Loss: -103.5420\n",
      "Fold: 1 \t Epoch: 500,                     \t Train r2: 0.8167 \t Train Loss: -86.0289\n",
      "Fold: 1 \t Epoch: 550,                     \t Train r2: 0.8673 \t Train Loss: -97.0777\n",
      "Fold: 1 \t Epoch: 600,                     \t Train r2: 0.8315 \t Train Loss: -100.1215\n",
      "Fold: 1 \t Epoch: 650,                     \t Train r2: 0.8973 \t Train Loss: -98.3938\n",
      "Fold: 1 \t Epoch: 700,                     \t Train r2: 0.8775 \t Train Loss: -91.0308\n",
      "Fold: 1 \t Epoch: 750,                     \t Train r2: 0.7183 \t Train Loss: -75.0869\n",
      "Fold: 1 \t Epoch: 800,                     \t Train r2: 0.7637 \t Train Loss: -89.1902\n",
      "Fold: 1 \t Epoch: 850,                     \t Train r2: 0.8657 \t Train Loss: -109.2260\n",
      "Fold: 1 \t Epoch: 900,                     \t Train r2: 0.7892 \t Train Loss: -79.8409\n",
      "Fold: 1 \t Epoch: 950,                     \t Train r2: 0.7162 \t Train Loss: -75.2364\n",
      "Fold: 1 \t Test r2: 0.7689 \t Test Loss: 0.0062 \t Test MAE: 0.0506\n",
      "Fold: 2 \t Epoch: 0,                     \t Train r2: -3.2458 \t Train Loss: 138.1056\n",
      "Fold: 2 \t Epoch: 50,                     \t Train r2: 0.4706 \t Train Loss: -30.8912\n",
      "Fold: 2 \t Epoch: 100,                     \t Train r2: 0.6261 \t Train Loss: -41.1704\n",
      "Fold: 2 \t Epoch: 150,                     \t Train r2: 0.7991 \t Train Loss: -76.2744\n",
      "Fold: 2 \t Epoch: 200,                     \t Train r2: 0.8471 \t Train Loss: -81.3561\n",
      "Fold: 2 \t Epoch: 250,                     \t Train r2: 0.7935 \t Train Loss: -86.0309\n",
      "Fold: 2 \t Epoch: 300,                     \t Train r2: 0.8541 \t Train Loss: -92.3617\n",
      "Fold: 2 \t Epoch: 350,                     \t Train r2: 0.8135 \t Train Loss: -81.2786\n",
      "Fold: 2 \t Epoch: 400,                     \t Train r2: 0.8356 \t Train Loss: -100.1204\n",
      "Fold: 2 \t Epoch: 450,                     \t Train r2: 0.8924 \t Train Loss: -89.2524\n",
      "Fold: 2 \t Epoch: 500,                     \t Train r2: 0.9115 \t Train Loss: -113.6535\n",
      "Fold: 2 \t Epoch: 550,                     \t Train r2: 0.8834 \t Train Loss: -107.7843\n",
      "Fold: 2 \t Epoch: 600,                     \t Train r2: 0.9185 \t Train Loss: -108.9533\n",
      "Fold: 2 \t Epoch: 650,                     \t Train r2: 0.9210 \t Train Loss: -113.8174\n",
      "Fold: 2 \t Epoch: 700,                     \t Train r2: 0.8776 \t Train Loss: -100.4167\n",
      "Fold: 2 \t Epoch: 750,                     \t Train r2: 0.9030 \t Train Loss: -116.9514\n",
      "Fold: 2 \t Epoch: 800,                     \t Train r2: 0.9018 \t Train Loss: -111.1977\n",
      "Fold: 2 \t Epoch: 850,                     \t Train r2: 0.9526 \t Train Loss: -126.8194\n",
      "Fold: 2 \t Epoch: 900,                     \t Train r2: 0.8943 \t Train Loss: -103.5970\n",
      "Fold: 2 \t Epoch: 950,                     \t Train r2: 0.9360 \t Train Loss: -124.0354\n",
      "Fold: 2 \t Test r2: 0.5929 \t Test Loss: 0.0299 \t Test MAE: 0.0901\n",
      "Fold: 3 \t Epoch: 0,                     \t Train r2: -30.8435 \t Train Loss: 325.1099\n",
      "Fold: 3 \t Epoch: 50,                     \t Train r2: 0.6704 \t Train Loss: -48.1669\n",
      "Fold: 3 \t Epoch: 100,                     \t Train r2: 0.6026 \t Train Loss: -54.3652\n",
      "Fold: 3 \t Epoch: 150,                     \t Train r2: 0.7907 \t Train Loss: -88.4762\n",
      "Fold: 3 \t Epoch: 200,                     \t Train r2: 0.7112 \t Train Loss: -85.5716\n",
      "Fold: 3 \t Epoch: 250,                     \t Train r2: 0.7407 \t Train Loss: -75.6433\n",
      "Fold: 3 \t Epoch: 300,                     \t Train r2: 0.6463 \t Train Loss: -90.7552\n",
      "Fold: 3 \t Epoch: 350,                     \t Train r2: 0.8514 \t Train Loss: -99.3532\n",
      "Fold: 3 \t Epoch: 400,                     \t Train r2: 0.7582 \t Train Loss: -89.2686\n",
      "Fold: 3 \t Epoch: 450,                     \t Train r2: 0.5527 \t Train Loss: -95.3565\n",
      "Fold: 3 \t Epoch: 500,                     \t Train r2: 0.6551 \t Train Loss: -88.8539\n",
      "Fold: 3 \t Epoch: 550,                     \t Train r2: 0.7751 \t Train Loss: -93.4114\n",
      "Fold: 3 \t Epoch: 600,                     \t Train r2: 0.8554 \t Train Loss: -100.1628\n",
      "Fold: 3 \t Epoch: 650,                     \t Train r2: 0.7146 \t Train Loss: -96.2593\n",
      "Fold: 3 \t Epoch: 700,                     \t Train r2: 0.8261 \t Train Loss: -108.6005\n",
      "Fold: 3 \t Epoch: 750,                     \t Train r2: 0.8425 \t Train Loss: -107.3721\n",
      "Fold: 3 \t Epoch: 800,                     \t Train r2: 0.8676 \t Train Loss: -110.1440\n",
      "Fold: 3 \t Epoch: 850,                     \t Train r2: 0.7953 \t Train Loss: -94.1787\n",
      "Fold: 3 \t Epoch: 900,                     \t Train r2: 0.6901 \t Train Loss: -111.3072\n",
      "Fold: 3 \t Epoch: 950,                     \t Train r2: 0.7977 \t Train Loss: -99.8065\n",
      "Fold: 3 \t Test r2: 0.6975 \t Test Loss: 0.0128 \t Test MAE: 0.0743\n",
      "Fold: 4 \t Epoch: 0,                     \t Train r2: -0.3036 \t Train Loss: 110.0654\n",
      "Fold: 4 \t Epoch: 50,                     \t Train r2: 0.4327 \t Train Loss: -26.8161\n",
      "Fold: 4 \t Epoch: 100,                     \t Train r2: 0.4796 \t Train Loss: -30.4827\n",
      "Fold: 4 \t Epoch: 150,                     \t Train r2: 0.5276 \t Train Loss: -49.6065\n",
      "Fold: 4 \t Epoch: 200,                     \t Train r2: 0.5065 \t Train Loss: -50.6707\n",
      "Fold: 4 \t Epoch: 250,                     \t Train r2: 0.5564 \t Train Loss: -61.3648\n",
      "Fold: 4 \t Epoch: 300,                     \t Train r2: 0.8326 \t Train Loss: -86.5236\n",
      "Fold: 4 \t Epoch: 350,                     \t Train r2: 0.7657 \t Train Loss: -75.3115\n",
      "Fold: 4 \t Epoch: 400,                     \t Train r2: 0.4942 \t Train Loss: -65.4902\n",
      "Fold: 4 \t Epoch: 450,                     \t Train r2: 0.6683 \t Train Loss: -64.0980\n",
      "Fold: 4 \t Epoch: 500,                     \t Train r2: 0.8272 \t Train Loss: -78.7979\n",
      "Fold: 4 \t Epoch: 550,                     \t Train r2: 0.6043 \t Train Loss: -68.1649\n",
      "Fold: 4 \t Epoch: 600,                     \t Train r2: 0.7791 \t Train Loss: -80.1584\n",
      "Fold: 4 \t Epoch: 650,                     \t Train r2: 0.5624 \t Train Loss: -86.5580\n",
      "Fold: 4 \t Epoch: 700,                     \t Train r2: 0.8781 \t Train Loss: -90.9167\n",
      "Fold: 4 \t Epoch: 750,                     \t Train r2: 0.6023 \t Train Loss: -66.2465\n",
      "Fold: 4 \t Epoch: 800,                     \t Train r2: 0.7992 \t Train Loss: -96.8708\n",
      "Fold: 4 \t Epoch: 850,                     \t Train r2: 0.6633 \t Train Loss: -92.3954\n",
      "Fold: 4 \t Epoch: 900,                     \t Train r2: 0.6114 \t Train Loss: -85.2356\n",
      "Fold: 4 \t Epoch: 950,                     \t Train r2: 0.6018 \t Train Loss: -92.3180\n",
      "Fold: 4 \t Test r2: 0.7490 \t Test Loss: 0.0119 \t Test MAE: 0.0606\n",
      "Fold: 5 \t Epoch: 0,                     \t Train r2: -4.4911 \t Train Loss: 168.1390\n",
      "Fold: 5 \t Epoch: 50,                     \t Train r2: 0.2692 \t Train Loss: -8.2354\n",
      "Fold: 5 \t Epoch: 100,                     \t Train r2: 0.5448 \t Train Loss: -45.5575\n",
      "Fold: 5 \t Epoch: 150,                     \t Train r2: 0.5852 \t Train Loss: -67.0498\n",
      "Fold: 5 \t Epoch: 200,                     \t Train r2: 0.7150 \t Train Loss: -80.1278\n",
      "Fold: 5 \t Epoch: 250,                     \t Train r2: 0.7597 \t Train Loss: -87.0167\n",
      "Fold: 5 \t Epoch: 300,                     \t Train r2: 0.5131 \t Train Loss: -71.0370\n",
      "Fold: 5 \t Epoch: 350,                     \t Train r2: 0.8163 \t Train Loss: -91.8772\n",
      "Fold: 5 \t Epoch: 400,                     \t Train r2: 0.5913 \t Train Loss: -95.2557\n",
      "Fold: 5 \t Epoch: 450,                     \t Train r2: 0.8909 \t Train Loss: -109.0674\n",
      "Fold: 5 \t Epoch: 500,                     \t Train r2: 0.8949 \t Train Loss: -112.4175\n",
      "Fold: 5 \t Epoch: 550,                     \t Train r2: 0.6243 \t Train Loss: -96.9329\n",
      "Fold: 5 \t Epoch: 600,                     \t Train r2: 0.5369 \t Train Loss: -97.9256\n",
      "Fold: 5 \t Epoch: 650,                     \t Train r2: 0.7781 \t Train Loss: -81.6947\n",
      "Fold: 5 \t Epoch: 700,                     \t Train r2: 0.8828 \t Train Loss: -116.2955\n",
      "Fold: 5 \t Epoch: 750,                     \t Train r2: 0.8940 \t Train Loss: -94.0795\n",
      "Fold: 5 \t Epoch: 800,                     \t Train r2: 0.9307 \t Train Loss: -118.0191\n",
      "Fold: 5 \t Epoch: 850,                     \t Train r2: 0.8443 \t Train Loss: -96.4017\n",
      "Fold: 5 \t Epoch: 900,                     \t Train r2: 0.9123 \t Train Loss: -116.1582\n",
      "Fold: 5 \t Epoch: 950,                     \t Train r2: 0.9548 \t Train Loss: -121.0992\n",
      "Fold: 5 \t Test r2: 0.8680 \t Test Loss: 0.0051 \t Test MAE: 0.0447\n",
      "Final avg. r2:  0.7352640915375976\n",
      "Final avg. MSE: 0.013199586619465811\n",
      "Final avg. MAE: 0.06406152180655776\n"
     ]
    }
   ],
   "source": [
    "from polymerlearn.models.gnn import PolymerGNN_IV_evidential\n",
    "from polymerlearn.utils import CV_eval_evidential\n",
    "\n",
    "model_generator_kwargs = {\n",
    "    'input_feat': 6,         # How many input features on each node; don't change this\n",
    "    'hidden_channels': 32,   # How many intermediate dimensions to use in model\n",
    "                            # Can change this ^^\n",
    "    'num_additional': 4      # How many additional resin properties to include in the prediction\n",
    "                            # Corresponds to the number in get_IV_add\n",
    "}\n",
    "\n",
    "optimizer_gen = torch.optim.AdamW\n",
    "criterion = torch.nn.MSELoss()\n",
    "\n",
    "all_predictions, all_y, all_inds = CV_eval_evidential(\n",
    "    dataset = dataset,\n",
    "    model_generator = PolymerGNN_IV_evidential,\n",
    "    optimizer_generator = optimizer_gen,\n",
    "    model_generator_kwargs = model_generator_kwargs,\n",
    "    optimizer_kwargs = {'lr': 0.0001, 'weight_decay':0.01},\n",
    "    epochs = 1000,\n",
    "    batch_size = 64,\n",
    "    verbose = 1,\n",
    "    use_val = False,\n",
    "    val_size = 0.05,\n",
    "    early_stop_delay=100\n",
    ")"
   ]
  },
  {
   "cell_type": "code",
   "execution_count": 41,
   "metadata": {},
   "outputs": [],
   "source": [
    "# Examine uncertainties:\n",
    "from polymerlearn.utils.uncertainty import epistemic\n",
    "\n",
    "# def aleatoric(outdict):\n",
    "#     '''\n",
    "#     Aleatoric uncertainty given the output of evidential model\n",
    "#     '''\n",
    "#     beta = outdict['beta']\n",
    "#     alpha = outdict['alpha']\n",
    "\n",
    "#     return (beta / (alpha - 1)).item()\n",
    "\n",
    "# Screen all epistemic and aleatoric uncertanties:\n",
    "pred_uncertain = {}\n",
    "uncertain = []\n",
    "uncertain_a = []\n",
    "for i in range(len(all_predictions)):\n",
    "    ind = all_inds[i]\n",
    "    pred_uncertain[ind] = epistemic(all_predictions[i]).item()\n",
    "    uncertain.append(epistemic(all_predictions[i]).item())\n",
    "    uncertain_a.append(aleatoric(all_predictions[i]))"
   ]
  },
  {
   "cell_type": "code",
   "execution_count": 45,
   "metadata": {},
   "outputs": [
    {
     "name": "stdout",
     "output_type": "stream",
     "text": [
      "       Resin#  Reactor Reaction Solvent     AN        OHN OHN (primary)  \\\n",
      "124       144      Rig             Neat  17.15  25.404422           NaN   \n",
      "120       140      Rig             Neat  20.65  18.542329           NaN   \n",
      "115       135      Rig             Neat  22.66  22.410140           NaN   \n",
      "155       175      Rig             Neat  24.34  32.939359           NaN   \n",
      "130       150      Rig             Neat  27.37  25.455449           NaN   \n",
      "..        ...      ...              ...    ...        ...           ...   \n",
      "222  Resin 6b      Rig             Neat   3.80  17.600000           NaN   \n",
      "99        103  Kettle            A150ND   0.90  39.000000            39   \n",
      "246       C14      NaN              NaN    NaN        NaN           NaN   \n",
      "212  Resin 3d      Rig             Neat   3.80  15.300000           NaN   \n",
      "224  Resin 6d      Rig             Neat   2.50  16.820000           NaN   \n",
      "\n",
      "    OHN (secondary)     IV  IV - Intrinsic     Tg  ...  %1,4-CHDM  %1,3-CHDM  \\\n",
      "124             NaN  0.161           0.163    NaN  ...        NaN       56.0   \n",
      "120             NaN  0.156           0.158    NaN  ...        NaN       58.8   \n",
      "115             NaN  0.163           0.165    NaN  ...       58.8        NaN   \n",
      "155             NaN  0.138           0.139    NaN  ...       55.4        NaN   \n",
      "130             NaN  0.155           0.157    NaN  ...       57.9        NaN   \n",
      "..              ...    ...             ...    ...  ...        ...        ...   \n",
      "222             NaN  0.551           0.572  37.26  ...       38.7        NaN   \n",
      "99                0  0.479           0.495  55.36  ...       41.1       52.8   \n",
      "246             NaN  0.706             NaN  64.00  ...        NaN        NaN   \n",
      "212             NaN  0.803           0.849  57.08  ...       38.7        NaN   \n",
      "224             NaN  1.091           1.181  37.97  ...       38.7        NaN   \n",
      "\n",
      "     %TMCD  %TMP  %MPD  %TCDDM  %Total Glycol  End  uncertainty  abs_error  \n",
      "124   43.8   NaN   NaN     NaN           99.7  NaN     0.000191   0.004706  \n",
      "120   41.1   NaN   NaN     NaN           99.9  NaN     0.000221   0.026178  \n",
      "115   41.0   NaN   NaN     NaN           99.7  NaN     0.000265   0.011637  \n",
      "155   44.4   NaN   NaN     NaN           99.7  NaN     0.000279   0.007722  \n",
      "130   41.8   NaN   NaN     NaN           99.9  NaN     0.000305   0.013305  \n",
      "..     ...   ...   ...     ...            ...  ...          ...        ...  \n",
      "222    NaN   3.8  57.5     NaN          100.0  NaN   435.272552   0.008779  \n",
      "99     NaN   6.1   NaN     NaN          100.0  NaN   448.474548   0.130182  \n",
      "246    NaN   NaN   NaN     NaN          100.0  NaN   528.252563   0.326309  \n",
      "212    NaN   3.9  57.4     NaN          100.0  NaN   745.007996   0.145192  \n",
      "224    NaN   4.0  57.4     NaN          100.0  NaN   828.815796   0.363887  \n",
      "\n",
      "[243 rows x 50 columns]\n"
     ]
    },
    {
     "name": "stderr",
     "output_type": "stream",
     "text": [
      "<ipython-input-45-1107b8337117>:11: SettingWithCopyWarning: \n",
      "A value is trying to be set on a copy of a slice from a DataFrame.\n",
      "Try using .loc[row_indexer,col_indexer] = value instead\n",
      "\n",
      "See the caveats in the documentation: https://pandas.pydata.org/pandas-docs/stable/user_guide/indexing.html#returning-a-view-versus-a-copy\n",
      "  Lar['uncertainty'] = [uncertain[i] for i in largest]\n",
      "<ipython-input-45-1107b8337117>:12: SettingWithCopyWarning: \n",
      "A value is trying to be set on a copy of a slice from a DataFrame.\n",
      "Try using .loc[row_indexer,col_indexer] = value instead\n",
      "\n",
      "See the caveats in the documentation: https://pandas.pydata.org/pandas-docs/stable/user_guide/indexing.html#returning-a-view-versus-a-copy\n",
      "  Lar['abs_error'] = [absolute_errors[i] for i in largest]\n"
     ]
    }
   ],
   "source": [
    "# Find most uncertain predictions:\n",
    "import numpy as np\n",
    "\n",
    "trim_data = data[data['IV'].notna()]\n",
    "absolute_errors = [np.abs(all_predictions[i]['gamma'].item() - all_y[i]) for i in range(len(all_y))]\n",
    "\n",
    "largest = np.argsort(uncertain)\n",
    "\n",
    "Lar = trim_data.iloc[[all_inds[i] for i in largest],:]\n",
    "\n",
    "Lar['uncertainty'] = [uncertain[i] for i in largest]\n",
    "Lar['abs_error'] = [absolute_errors[i] for i in largest]\n",
    "\n",
    "print(Lar)\n",
    "\n",
    "Lar.to_csv('uncertainty_estimates_IV.csv')"
   ]
  },
  {
   "cell_type": "code",
   "execution_count": 28,
   "metadata": {},
   "outputs": [
    {
     "name": "stdout",
     "output_type": "stream",
     "text": [
      "MAE before 0.06415560470564376\n",
      "ADJ MAE 0.060341747381306925\n",
      "Mask r2 0.7276545697460228\n",
      "Non-mask r2 0.7199654555966408\n"
     ]
    }
   ],
   "source": [
    "# Test MAE of all samples:\n",
    "absolute_errors = [np.abs(all_predictions[i]['gamma'].item() - all_y[i]) for i in range(len(all_y))]\n",
    "mae = np.mean(absolute_errors)\n",
    "print('MAE before', mae)\n",
    "\n",
    "# Remove those with uncertanties > 200:\n",
    "over200_mask = [i for i in range(len(all_y)) if (uncertain[i] < 200)]\n",
    "mae_adj = np.mean([np.abs(all_predictions[i]['gamma'].item() - all_y[i]) for i in over200_mask])\n",
    "print('ADJ MAE', mae_adj)\n",
    "\n",
    "pred_mask = [all_predictions[i]['gamma'].item() for i in over200_mask]\n",
    "ymask = [all_y[i] for i in over200_mask]\n",
    "\n",
    "all_pred = [all_predictions[i]['gamma'].item() for i in range(len(all_y))]\n",
    "\n",
    "from sklearn.metrics import r2_score\n",
    "print('Mask r2', r2_score(ymask, pred_mask))\n",
    "print('Non-mask r2', r2_score(all_y, all_pred))"
   ]
  },
  {
   "cell_type": "code",
   "execution_count": 57,
   "metadata": {},
   "outputs": [
    {
     "name": "stdout",
     "output_type": "stream",
     "text": [
      "0.7715857651252361\n",
      "0.7715857651252361\n",
      "0.5653589343083764\n",
      "0.5653589343083764\n",
      "0.7190734712416613\n",
      "0.7190734712416613\n",
      "0.735161661035542\n",
      "0.7775550543228495\n",
      "0.8818930200112174\n",
      "0.8795581783132533\n",
      "Avg raw 0.7346145703444067\n",
      "Avg mask 0.7426262806622754\n"
     ]
    }
   ],
   "source": [
    "#Break into 5 segments:\n",
    "segment_len = int(len(all_pred) / 5)\n",
    "\n",
    "r2_raw = []\n",
    "r2_mask = []\n",
    "\n",
    "for i in range(5):\n",
    "    Yi = all_y[(segment_len * i) : (segment_len * (i + 1))]\n",
    "    Ypredi = all_pred[(segment_len * i) : (segment_len * (i + 1))]\n",
    "    pdict = all_predictions[(segment_len * i) : (segment_len * (i + 1))]\n",
    "\n",
    "    over200_mask = [j for j in range(segment_len) \\\n",
    "        if (uncertain[(segment_len * i) + j] < 200)]\n",
    "\n",
    "    pred_mask = [pdict[j]['gamma'].item() for j in over200_mask]\n",
    "    ymask = [Yi[j] for j in over200_mask]    \n",
    "\n",
    "    print(r2_score(Yi, Ypredi))\n",
    "\n",
    "    r2_raw.append(r2_score(Yi, Ypredi))\n",
    "\n",
    "    print(r2_score(ymask, pred_mask))\n",
    "\n",
    "    r2_mask.append(r2_score(ymask, pred_mask))\n",
    "\n",
    "print('Avg raw', np.mean(r2_raw))\n",
    "print('Avg mask', np.mean(r2_mask))"
   ]
  },
  {
   "cell_type": "code",
   "execution_count": 44,
   "metadata": {},
   "outputs": [
    {
     "data": {
      "image/png": "[encoded data removed]",
      "text/plain": [
       "<Figure size 432x288 with 1 Axes>"
      ]
     },
     "metadata": {
      "needs_background": "light"
     },
     "output_type": "display_data"
    },
    {
     "data": {
      "text/plain": [
       "-1314219.063210123"
      ]
     },
     "execution_count": 44,
     "metadata": {},
     "output_type": "execute_result"
    }
   ],
   "source": [
    "import matplotlib.pyplot as plt\n",
    "\n",
    "# Show correlation between uncertainty and error:\n",
    "np.array(uncertain_a)\n",
    "plt.scatter(absolute_errors, np.array(uncertain))\n",
    "plt.show()"
   ]
  },
  {
   "cell_type": "code",
   "execution_count": 12,
   "metadata": {},
   "outputs": [
    {
     "data": {
      "image/png": "[encoded data removed]",
      "text/plain": [
       "<Figure size 900x600 with 1 Axes>"
      ]
     },
     "metadata": {
      "needs_background": "light"
     },
     "output_type": "display_data"
    }
   ],
   "source": [
    "import matplotlib.pyplot as plt\n",
    "\n",
    "Y = Ytest.tolist()\n",
    "\n",
    "plt.figure(dpi=150)\n",
    "plt.plot(Y, Y, marker = 's', c = 'black', label = 'Actual IV')\n",
    "plt.scatter(Y, predictions, c = 'green', label = 'Predicted IV')\n",
    "plt.xlabel('Actual IV')\n",
    "plt.ylabel('Predicted IV')\n",
    "plt.title('Predicted IV on Test Set')\n",
    "plt.legend()\n",
    "plt.show()"
   ]
  },
  {
   "cell_type": "code",
   "execution_count": null,
   "metadata": {},
   "outputs": [],
   "source": []
  }
 ],
 "metadata": {
  "interpreter": {
   "hash": "40d3a090f54c6569ab1632332b64b2c03c39dcf918b08424e98f38b5ae0af88f"
  },
  "kernelspec": {
   "display_name": "Python 3.8.5 ('base')",
   "language": "python",
   "name": "python3"
  },
  "language_info": {
   "codemirror_mode": {
    "name": "ipython",
    "version": 3
   },
   "file_extension": ".py",
   "mimetype": "text/x-python",
   "name": "python",
   "nbconvert_exporter": "python",
   "pygments_lexer": "ipython3",
   "version": "3.8.5"
  },
  "orig_nbformat": 4
 },
 "nbformat": 4,
 "nbformat_minor": 2
}
